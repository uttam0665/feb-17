{
 "cells": [
  {
   "cell_type": "code",
   "execution_count": null,
   "id": "7178ad2b",
   "metadata": {},
   "outputs": [],
   "source": [
    "Q1. What is MongoDB? Explain non-relational databases in short. In which scenarios it is preferred to use\n",
    "MongoDB over SQL databases?\n",
    "Ans:-\n",
    "    MongoDB is a non-relational document database that provides support for JSON-like storage.\n",
    "    The MongoDB database has a flexible data model that enables you to store unstructured data, and it provides full indexing support, and replication with rich and intuitive APIs.\n",
    "    \n",
    "    A non-relational database is a database that does not use the tabular schema of rows and columns found in most traditional database systems.\n",
    "    Instead, non-relational databases use a storage model that is optimized for the specific requirements of the type of data being stored.\n",
    "    \n",
    "    NoSQL databases like MongoDB are a good choice when your data is document-centric and doesn't fit well into the schema of a relational database, when you need to accommodate massive scale, \n",
    "    when you are rapidly prototyping, and a few other use cases."
   ]
  },
  {
   "cell_type": "code",
   "execution_count": null,
   "id": "a525bf30",
   "metadata": {},
   "outputs": [],
   "source": [
    "Q2. State and Explain the features of MongoDB.\n",
    "Ans:-\n",
    "1. Support ad hoc queries\n",
    "In MongoDB, you can search by field, range query and it also supports regular expression searches.\n",
    "\n",
    "2. Indexing\n",
    "You can index any field in a document.\n",
    "\n",
    "3. Replication\n",
    "MongoDB supports Master Slave replication.\n",
    "A master can perform Reads and Writes and a Slave copies data from the master and can only be used for reads or back up (not writes)\n",
    "\n",
    "4. Duplication of data\n",
    "MongoDB can run over multiple servers. The data is duplicated to keep the system up and also keep its running condition in case of hardware failure.\n",
    "\n",
    "5. Load balancing\n",
    "It has an automatic load balancing configuration because of data placed in shards."
   ]
  },
  {
   "cell_type": "code",
   "execution_count": null,
   "id": "ee3593a2",
   "metadata": {},
   "outputs": [],
   "source": [
    "Q4. Using the database and the collection created in question number 3, write a code to insert one record,\n",
    "and insert many records. Use the find() and find_one() methods to print the inserted record.\n",
    "Ans:-\n",
    "\n",
    "import pymongo\n",
    "\n",
    "client = pymongo.MongoClient(\"mongodb://localhost:27017/\")\n",
    "db = client[\"mydatabase\"]\n",
    "collection = db[\"mycollection\"]\n",
    "record = {\"name\": \"John\", \"age\": 35}\n",
    "result = collection.insert_one(record)\n",
    "print(f\"Inserted record with ID: {result.inserted_id}\")\n",
    "\n",
    "records = [\n",
    "    {\"name\": \"Jane\", \"age\": 27},\n",
    "    {\"name\": \"Bob\", \"age\": 42},\n",
    "    {\"name\": \"Alice\", \"age\": 31},\n",
    "]\n",
    "result = collection.insert_many(records)\n",
    "print(f\"Inserted {len(result.inserted_ids)} records\")\n",
    "\n",
    "result = collection.find_one({\"name\": \"John\"})\n",
    "print(result)\n",
    "\n",
    "results = collection.find()\n",
    "for result in results:\n",
    "    print(result)\n"
   ]
  },
  {
   "cell_type": "code",
   "execution_count": null,
   "id": "6b76c6f5",
   "metadata": {},
   "outputs": [],
   "source": [
    "Q5. Explain how you can use the find() method to query the MongoDB database. Write a simple code to\n",
    "demonstrate this.\n",
    "Ans:-\n",
    "    In mongoDB, the find() method is used to fetch a particular data from the table. In other words, it is used to select data in a table. It is also used to return all events to the selected data.\n",
    "    The find() method consists of two parameters by which we can find a particular record\n",
    "    \n",
    "    The find() method is used in MongoDB to query the database for documents that match a specific set of criteria. The method returns a cursor object which can be used to iterate over the matching documents.\n",
    "    "
   ]
  },
  {
   "cell_type": "code",
   "execution_count": null,
   "id": "e74565e7",
   "metadata": {},
   "outputs": [],
   "source": [
    "Q6. Explain the sort() method. Give an example to demonstrate sorting in MongoDB.\n",
    "Ans:-\n",
    "    The sort() method can be used to sort the metadata values for a calculated metadata field. The following example used the “food” collection to demonstrate how documents can be sorted using the metadata “textScore.” \n",
    "    The field name in the sort() method can be arbitrary as the query system ignores the field name.\n",
    "    "
   ]
  },
  {
   "cell_type": "code",
   "execution_count": null,
   "id": "b7390d69",
   "metadata": {},
   "outputs": [],
   "source": [
    "Q7. Explain why delete_one(), delete_many(), and drop() is used.\n",
    "ans:-\n",
    "    \n",
    "    Delete_many() is used when one needs to delete more than one document.\n",
    "    A query object containing which document to be deleted is created and is passed as the first parameter to the delete_many().\n",
    "    \n",
    "    delete_one() is a method in MongoDB's PyMongo library that allows you to delete a single document that matches a specified filter.\n",
    "\n",
    "    \n",
    "    This method is useful when you want to remove a single document from a collection that meets certain criteria.\n",
    "    For example, you might want to delete a specific user from a user database by specifying their unique ID or email address as the filte\n",
    "    \n",
    "    The MongoDB shell provides the following methods to delete documents from a collection:\n",
    "    To delete multiple documents, use db. collection. deleteMany() .\n",
    "    To delete a single document, use db. collection. deleteOne() "
   ]
  }
 ],
 "metadata": {
  "kernelspec": {
   "display_name": "Python 3 (ipykernel)",
   "language": "python",
   "name": "python3"
  },
  "language_info": {
   "codemirror_mode": {
    "name": "ipython",
    "version": 3
   },
   "file_extension": ".py",
   "mimetype": "text/x-python",
   "name": "python",
   "nbconvert_exporter": "python",
   "pygments_lexer": "ipython3",
   "version": "3.9.13"
  }
 },
 "nbformat": 4,
 "nbformat_minor": 5
}
